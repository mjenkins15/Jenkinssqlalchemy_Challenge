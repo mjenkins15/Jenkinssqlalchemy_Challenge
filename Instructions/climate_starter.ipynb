{
 "cells": [
  {
   "cell_type": "code",
   "execution_count": 1,
   "metadata": {},
   "outputs": [],
   "source": [
    "%matplotlib inline\n",
    "from matplotlib import style\n",
    "style.use('fivethirtyeight')\n",
    "import matplotlib.pyplot as plt"
   ]
  },
  {
   "cell_type": "code",
   "execution_count": 2,
   "metadata": {},
   "outputs": [],
   "source": [
    "import numpy as np\n",
    "import pandas as pd"
   ]
  },
  {
   "cell_type": "code",
   "execution_count": 3,
   "metadata": {},
   "outputs": [],
   "source": [
    "import datetime as dt"
   ]
  },
  {
   "cell_type": "markdown",
   "metadata": {},
   "source": [
    "# Reflect Tables into SQLAlchemy ORM"
   ]
  },
  {
   "cell_type": "code",
   "execution_count": 4,
   "metadata": {},
   "outputs": [],
   "source": [
    "# Python SQL toolkit and Object Relational Mapper\n",
    "import sqlalchemy\n",
    "from sqlalchemy.ext.automap import automap_base\n",
    "from sqlalchemy.orm import Session\n",
    "from sqlalchemy import create_engine, func"
   ]
  },
  {
   "cell_type": "code",
   "execution_count": 5,
   "metadata": {},
   "outputs": [],
   "source": [
    "#Create an engine to connect to the database\n",
    "engine = create_engine(\"sqlite:///Resources/hawaii.sqlite\")\n",
    "conn = engine.connect()"
   ]
  },
  {
   "cell_type": "code",
   "execution_count": 6,
   "metadata": {},
   "outputs": [],
   "source": [
    "# reflect an existing database into a new model\n",
    "Base = automap_base()\n",
    "\n",
    "# reflect the tables\n",
    "Base.prepare(engine, reflect=True)"
   ]
  },
  {
   "cell_type": "code",
   "execution_count": 7,
   "metadata": {},
   "outputs": [
    {
     "output_type": "execute_result",
     "data": {
      "text/plain": "['measurement', 'station']"
     },
     "metadata": {},
     "execution_count": 7
    }
   ],
   "source": [
    "# We can view all of the classes that automap found\n",
    "Base.classes.keys()\n"
   ]
  },
  {
   "cell_type": "code",
   "execution_count": 8,
   "metadata": {},
   "outputs": [],
   "source": [
    "# Save references to each table\n",
    "\n",
    "# Assign the measurement class to a variable called \"Measurement\"\n",
    "Measurement = Base.classes.measurement\n",
    "\n",
    "# Assign the station class to a variabe called \"Station\"\n",
    "Station = Base.classes.station"
   ]
  },
  {
   "cell_type": "code",
   "execution_count": 9,
   "metadata": {},
   "outputs": [],
   "source": [
    "# Create our session (link) from Python to the DB\n",
    "session = Session(engine)"
   ]
  },
  {
   "cell_type": "code",
   "execution_count": 10,
   "metadata": {},
   "outputs": [
    {
     "output_type": "execute_result",
     "data": {
      "text/plain": "{'_sa_instance_state': <sqlalchemy.orm.state.InstanceState at 0x1c6c8c3e708>,\n 'date': '2010-01-01',\n 'tobs': 65.0,\n 'id': 1,\n 'prcp': 0.08,\n 'station': 'USC00519397'}"
     },
     "metadata": {},
     "execution_count": 10
    }
   ],
   "source": [
    "# Display the row's columns and data in dictionary format\n",
    "first_row = session.query(Measurement).first()\n",
    "first_row.__dict__\n"
   ]
  },
  {
   "cell_type": "code",
   "execution_count": 11,
   "metadata": {},
   "outputs": [
    {
     "output_type": "execute_result",
     "data": {
      "text/plain": "{'_sa_instance_state': <sqlalchemy.orm.state.InstanceState at 0x1c6c8c20808>,\n 'station': 'USC00519397',\n 'latitude': 21.2716,\n 'elevation': 3.0,\n 'longitude': -157.8168,\n 'id': 1,\n 'name': 'WAIKIKI 717.2, HI US'}"
     },
     "metadata": {},
     "execution_count": 11
    }
   ],
   "source": [
    "# Display the row's columns and data in dictionary format\n",
    "first_row = session.query(Station).first()\n",
    "first_row.__dict__"
   ]
  },
  {
   "cell_type": "code",
   "execution_count": 123,
   "metadata": {},
   "outputs": [],
   "source": []
  },
  {
   "cell_type": "markdown",
   "metadata": {},
   "source": [
    "# Exploratory Climate Analysis"
   ]
  },
  {
   "cell_type": "code",
   "execution_count": 13,
   "metadata": {
    "tags": [
     "outputPrepend",
     "outputPrepend",
     "outputPrepend",
     "outputPrepend",
     "outputPrepend",
     "outputPrepend",
     "outputPrepend",
     "outputPrepend",
     "outputPrepend",
     "outputPrepend"
    ]
   },
   "outputs": [
    {
     "output_type": "stream",
     "name": "stdout",
     "text": ".38, 70.0)\n(19140, 'USC00516128', '2016-06-16', 0.12, 70.0)\n(19141, 'USC00516128', '2016-06-17', 1.27, 69.0)\n(19142, 'USC00516128', '2016-06-18', 0.72, 73.0)\n(19143, 'USC00516128', '2016-06-19', 0.79, 74.0)\n(19144, 'USC00516128', '2016-06-20', 0.52, 72.0)\n(19145, 'USC00516128', '2016-06-21', 0.78, 71.0)\n(19146, 'USC00516128', '2016-06-22', 0.2, 73.0)\n(19147, 'USC00516128', '2016-06-23', 0.9, 72.0)\n(19148, 'USC00516128', '2016-06-25', None, 73.0)\n(19149, 'USC00516128', '2016-06-26', 0.7, 74.0)\n(19150, 'USC00516128', '2016-06-27', 0.3, 72.0)\n(19151, 'USC00516128', '2016-06-28', 0.25, 74.0)\n(19152, 'USC00516128', '2016-06-29', 0.35, 72.0)\n(19153, 'USC00516128', '2016-07-01', None, 74.0)\n(19154, 'USC00516128', '2016-07-04', None, 74.0)\n(19155, 'USC00516128', '2016-07-05', 0.45, 71.0)\n(19156, 'USC00516128', '2016-07-06', 1.46, 71.0)\n(19157, 'USC00516128', '2016-07-07', 0.92, 73.0)\n(19158, 'USC00516128', '2016-07-08', 0.31, 73.0)\n(19159, 'USC00516128', '2016-07-09', 0.15, 71.0)\n(19160, 'USC00516128', '2016-07-10', 1.15, 76.0)\n(19161, 'USC00516128', '2016-07-11', 0.11, 72.0)\n(19162, 'USC00516128', '2016-07-12', 0.03, 75.0)\n(19163, 'USC00516128', '2016-07-13', 0.14, 75.0)\n(19164, 'USC00516128', '2016-07-14', 1.15, 73.0)\n(19165, 'USC00516128', '2016-07-15', 1.7, 71.0)\n(19166, 'USC00516128', '2016-07-16', 2.05, 77.0)\n(19167, 'USC00516128', '2016-07-17', 0.55, 74.0)\n(19168, 'USC00516128', '2016-07-18', 0.23, 72.0)\n(19169, 'USC00516128', '2016-07-19', 0.41, 73.0)\n(19170, 'USC00516128', '2016-07-20', 0.08, 74.0)\n(19171, 'USC00516128', '2016-07-23', None, 74.0)\n(19172, 'USC00516128', '2016-07-24', 2.75, 75.0)\n(19173, 'USC00516128', '2016-07-25', 5.35, 81.0)\n(19174, 'USC00516128', '2016-07-26', 0.03, 76.0)\n(19175, 'USC00516128', '2016-07-27', 0.04, 76.0)\n(19176, 'USC00516128', '2016-07-28', 0.0, 76.0)\n(19177, 'USC00516128', '2016-07-29', 0.05, 74.0)\n(19178, 'USC00516128', '2016-07-30', 0.4, 76.0)\n(19179, 'USC00516128', '2016-07-31', 2.9, 75.0)\n(19180, 'USC00516128', '2016-08-01', 2.21, 73.0)\n(19181, 'USC00516128', '2016-08-02', 1.14, 72.0)\n(19182, 'USC00516128', '2016-08-03', None, 74.0)\n(19183, 'USC00516128', '2016-08-04', None, 74.0)\n(19184, 'USC00516128', '2016-08-05', None, 75.0)\n(19185, 'USC00516128', '2016-08-06', None, 77.0)\n(19186, 'USC00516128', '2016-08-07', 1.3, 79.0)\n(19187, 'USC00516128', '2016-08-08', 0.02, 75.0)\n(19188, 'USC00516128', '2016-08-09', 0.56, 73.0)\n(19189, 'USC00516128', '2016-08-10', 0.0, 76.0)\n(19190, 'USC00516128', '2016-08-11', 0.04, 74.0)\n(19191, 'USC00516128', '2016-08-12', 0.39, 71.0)\n(19192, 'USC00516128', '2016-08-13', 0.45, 74.0)\n(19193, 'USC00516128', '2016-08-14', 0.75, 72.0)\n(19194, 'USC00516128', '2016-08-15', 0.95, 72.0)\n(19195, 'USC00516128', '2016-08-16', 0.85, 72.0)\n(19196, 'USC00516128', '2016-08-17', 0.3, 77.0)\n(19197, 'USC00516128', '2016-08-18', 0.21, 73.0)\n(19198, 'USC00516128', '2016-08-19', 2.3, 73.0)\n(19199, 'USC00516128', '2016-08-20', 0.2, 76.0)\n(19200, 'USC00516128', '2016-08-21', 1.08, 74.0)\n(19201, 'USC00516128', '2016-08-22', 1.2, 72.0)\n(19202, 'USC00516128', '2016-08-23', 0.7, 74.0)\n(19203, 'USC00516128', '2016-08-24', 1.45, 74.0)\n(19204, 'USC00516128', '2016-08-25', 0.11, 77.0)\n(19205, 'USC00516128', '2016-08-27', None, 74.0)\n(19206, 'USC00516128', '2016-08-28', 2.07, 71.0)\n(19207, 'USC00516128', '2016-08-29', 0.9, 78.0)\n(19208, 'USC00516128', '2016-08-30', 0.05, 75.0)\n(19209, 'USC00516128', '2016-08-31', 2.46, 76.0)\n(19210, 'USC00516128', '2016-09-01', 0.01, 77.0)\n(19211, 'USC00516128', '2016-09-02', 0.03, 75.0)\n(19212, 'USC00516128', '2016-09-03', 1.0, 75.0)\n(19213, 'USC00516128', '2016-09-04', 0.44, 73.0)\n(19214, 'USC00516128', '2016-09-05', 0.18, 76.0)\n(19215, 'USC00516128', '2016-09-06', 1.0, 73.0)\n(19216, 'USC00516128', '2016-09-07', 1.35, 74.0)\n(19217, 'USC00516128', '2016-09-08', 0.15, 74.0)\n(19218, 'USC00516128', '2016-09-09', 0.35, 75.0)\n(19219, 'USC00516128', '2016-09-10', 1.16, 75.0)\n(19220, 'USC00516128', '2016-09-11', 0.6, 71.0)\n(19221, 'USC00516128', '2016-09-12', 1.04, 72.0)\n(19222, 'USC00516128', '2016-09-13', 1.2, 75.0)\n(19223, 'USC00516128', '2016-09-14', 6.7, 73.0)\n(19224, 'USC00516128', '2016-09-15', 3.35, 73.0)\n(19225, 'USC00516128', '2016-09-16', 0.61, 73.0)\n(19226, 'USC00516128', '2016-09-17', 0.23, 76.0)\n(19227, 'USC00516128', '2016-09-18', 0.42, 75.0)\n(19228, 'USC00516128', '2016-09-19', 0.25, 70.0)\n(19229, 'USC00516128', '2016-09-20', 0.43, 70.0)\n(19230, 'USC00516128', '2016-09-21', 1.02, 73.0)\n(19231, 'USC00516128', '2016-09-22', 0.75, 73.0)\n(19232, 'USC00516128', '2016-09-23', 0.33, 73.0)\n(19233, 'USC00516128', '2016-09-24', 0.27, 77.0)\n(19234, 'USC00516128', '2016-09-25', 0.04, 76.0)\n(19235, 'USC00516128', '2016-09-26', 1.02, 74.0)\n(19236, 'USC00516128', '2016-09-27', 1.0, 74.0)\n(19237, 'USC00516128', '2016-09-28', 0.05, 77.0)\n(19238, 'USC00516128', '2016-09-29', 1.49, 77.0)\n(19239, 'USC00516128', '2016-09-30', 0.38, 73.0)\n(19240, 'USC00516128', '2016-10-01', 1.02, 74.0)\n(19241, 'USC00516128', '2016-10-02', 0.61, 73.0)\n(19242, 'USC00516128', '2016-10-03', 0.46, 76.0)\n(19243, 'USC00516128', '2016-10-04', 3.46, 74.0)\n(19244, 'USC00516128', '2016-10-05', 0.81, 75.0)\n(19245, 'USC00516128', '2016-10-06', 0.04, 75.0)\n(19246, 'USC00516128', '2016-10-07', 0.01, 73.0)\n(19247, 'USC00516128', '2016-10-08', 0.04, 74.0)\n(19248, 'USC00516128', '2016-10-09', 0.0, 77.0)\n(19249, 'USC00516128', '2016-10-10', 0.0, 74.0)\n(19250, 'USC00516128', '2016-10-11', 0.35, 74.0)\n(19251, 'USC00516128', '2016-10-12', 0.02, 78.0)\n(19252, 'USC00516128', '2016-10-13', 0.06, 75.0)\n(19253, 'USC00516128', '2016-10-14', 0.0, 73.0)\n(19254, 'USC00516128', '2016-10-15', 0.33, 74.0)\n(19255, 'USC00516128', '2016-10-16', 0.0, 77.0)\n(19256, 'USC00516128', '2016-10-17', 0.38, 70.0)\n(19257, 'USC00516128', '2016-10-18', 0.48, 74.0)\n(19258, 'USC00516128', '2016-10-19', 0.0, 70.0)\n(19259, 'USC00516128', '2016-10-20', 1.0, 73.0)\n(19260, 'USC00516128', '2016-10-21', 0.09, 74.0)\n(19261, 'USC00516128', '2016-10-22', 1.37, 75.0)\n(19262, 'USC00516128', '2016-10-23', 0.24, 72.0)\n(19263, 'USC00516128', '2016-10-24', 0.7, 71.0)\n(19264, 'USC00516128', '2016-10-25', 0.4, 74.0)\n(19265, 'USC00516128', '2016-10-26', 0.0, 75.0)\n(19266, 'USC00516128', '2016-10-27', 1.25, 71.0)\n(19267, 'USC00516128', '2016-10-28', 0.37, 68.0)\n(19268, 'USC00516128', '2016-10-29', 0.25, 71.0)\n(19269, 'USC00516128', '2016-10-30', 0.95, 76.0)\n(19270, 'USC00516128', '2016-10-31', 1.35, 69.0)\n(19271, 'USC00516128', '2016-11-01', 0.09, 73.0)\n(19272, 'USC00516128', '2016-11-02', 0.04, 76.0)\n(19273, 'USC00516128', '2016-11-03', 0.02, 74.0)\n(19274, 'USC00516128', '2016-11-04', 0.06, 74.0)\n(19275, 'USC00516128', '2016-11-05', 0.38, 69.0)\n(19276, 'USC00516128', '2016-11-06', 0.05, 77.0)\n(19277, 'USC00516128', '2016-11-07', 0.05, 71.0)\n(19278, 'USC00516128', '2016-11-08', 0.53, 71.0)\n(19279, 'USC00516128', '2016-11-09', 0.04, 71.0)\n(19280, 'USC00516128', '2016-11-10', 0.01, 71.0)\n(19281, 'USC00516128', '2016-11-11', 0.0, 67.0)\n(19282, 'USC00516128', '2016-11-12', 0.0, 73.0)\n(19283, 'USC00516128', '2016-11-13', 0.0, 72.0)\n(19284, 'USC00516128', '2016-11-14', 0.02, 74.0)\n(19285, 'USC00516128', '2016-11-15', 0.05, 72.0)\n(19286, 'USC00516128', '2016-11-16', 0.91, 72.0)\n(19287, 'USC00516128', '2016-11-17', 0.02, 75.0)\n(19288, 'USC00516128', '2016-11-20', None, 74.0)\n(19289, 'USC00516128', '2016-11-21', 2.87, 71.0)\n(19290, 'USC00516128', '2016-11-22', 2.11, 73.0)\n(19291, 'USC00516128', '2016-11-23', 0.22, 69.0)\n(19292, 'USC00516128', '2016-11-24', 0.72, 69.0)\n(19293, 'USC00516128', '2016-11-25', 1.03, 69.0)\n(19294, 'USC00516128', '2016-11-26', 0.3, 70.0)\n(19295, 'USC00516128', '2016-11-27', 0.29, 69.0)\n(19296, 'USC00516128', '2016-11-28', 0.69, 71.0)\n(19297, 'USC00516128', '2016-11-29', 0.2, 67.0)\n(19298, 'USC00516128', '2016-11-30', 0.79, 72.0)\n(19299, 'USC00516128', '2016-12-01', 0.72, 71.0)\n(19300, 'USC00516128', '2016-12-02', 1.27, 71.0)\n(19301, 'USC00516128', '2016-12-03', 1.62, 67.0)\n(19302, 'USC00516128', '2016-12-04', 0.31, 76.0)\n(19303, 'USC00516128', '2016-12-05', 1.6, 67.0)\n(19304, 'USC00516128', '2016-12-06', 0.0, 67.0)\n(19305, 'USC00516128', '2016-12-07', 0.02, 68.0)\n(19306, 'USC00516128', '2016-12-08', 0.03, 71.0)\n(19307, 'USC00516128', '2016-12-09', 0.42, 68.0)\n(19308, 'USC00516128', '2016-12-10', 0.04, 68.0)\n(19309, 'USC00516128', '2016-12-11', 0.13, 69.0)\n(19310, 'USC00516128', '2016-12-12', 0.01, 65.0)\n(19311, 'USC00516128', '2016-12-13', 0.09, 70.0)\n(19312, 'USC00516128', '2016-12-14', 0.33, 69.0)\n(19313, 'USC00516128', '2016-12-15', 0.03, 64.0)\n(19314, 'USC00516128', '2016-12-16', 0.0, 60.0)\n(19315, 'USC00516128', '2016-12-18', None, 67.0)\n(19316, 'USC00516128', '2016-12-19', 0.15, 72.0)\n(19317, 'USC00516128', '2016-12-20', 0.0, 73.0)\n(19318, 'USC00516128', '2016-12-21', 0.55, 70.0)\n(19319, 'USC00516128', '2016-12-22', 1.24, 68.0)\n(19320, 'USC00516128', '2016-12-23', 0.83, 69.0)\n(19321, 'USC00516128', '2016-12-24', 1.08, 69.0)\n(19322, 'USC00516128', '2016-12-25', 0.38, 69.0)\n(19323, 'USC00516128', '2016-12-26', 1.48, 71.0)\n(19324, 'USC00516128', '2016-12-27', 0.14, 71.0)\n(19325, 'USC00516128', '2016-12-28', 0.14, 71.0)\n(19326, 'USC00516128', '2016-12-29', 1.03, 69.0)\n(19327, 'USC00516128', '2016-12-30', 2.37, 65.0)\n(19328, 'USC00516128', '2016-12-31', 0.9, 65.0)\n(19329, 'USC00516128', '2017-01-01', 0.03, 68.0)\n(19330, 'USC00516128', '2017-01-02', 0.0, 70.0)\n(19331, 'USC00516128', '2017-01-03', 0.0, 71.0)\n(19332, 'USC00516128', '2017-01-04', 0.0, 70.0)\n(19333, 'USC00516128', '2017-01-05', 0.47, 71.0)\n(19334, 'USC00516128', '2017-01-06', 0.1, 65.0)\n(19335, 'USC00516128', '2017-01-07', 0.0, 70.0)\n(19336, 'USC00516128', '2017-01-08', 0.03, 66.0)\n(19337, 'USC00516128', '2017-01-09', 0.0, 69.0)\n(19338, 'USC00516128', '2017-01-10', 0.0, 64.0)\n(19339, 'USC00516128', '2017-01-11', 0.0, 66.0)\n(19340, 'USC00516128', '2017-01-12', 0.0, 68.0)\n(19341, 'USC00516128', '2017-01-13', 0.0, 67.0)\n(19342, 'USC00516128', '2017-01-14', 0.0, 70.0)\n(19343, 'USC00516128', '2017-01-15', 0.01, 68.0)\n(19344, 'USC00516128', '2017-01-16', 0.0, 68.0)\n(19345, 'USC00516128', '2017-01-17', 0.0, 69.0)\n(19346, 'USC00516128', '2017-01-18', 0.07, 73.0)\n(19347, 'USC00516128', '2017-01-19', 0.0, 71.0)\n(19348, 'USC00516128', '2017-01-20', 0.0, 67.0)\n(19349, 'USC00516128', '2017-01-21', 0.08, 67.0)\n(19350, 'USC00516128', '2017-01-22', 0.72, 68.0)\n(19351, 'USC00516128', '2017-01-23', 0.85, 70.0)\n(19352, 'USC00516128', '2017-01-24', 1.85, 67.0)\n(19353, 'USC00516128', '2017-01-25', 2.64, 69.0)\n(19354, 'USC00516128', '2017-01-26', 0.1, 67.0)\n(19355, 'USC00516128', '2017-01-27', 0.03, 69.0)\n(19356, 'USC00516128', '2017-01-28', 0.0, 64.0)\n(19357, 'USC00516128', '2017-01-29', 0.55, 67.0)\n(19358, 'USC00516128', '2017-01-30', 0.0, 66.0)\n(19359, 'USC00516128', '2017-01-31', 0.0, 65.0)\n(19360, 'USC00516128', '2017-02-01', 0.0, 65.0)\n(19361, 'USC00516128', '2017-02-02', 0.0, 60.0)\n(19362, 'USC00516128', '2017-02-04', None, 66.0)\n(19363, 'USC00516128', '2017-02-05', 0.0, 69.0)\n(19364, 'USC00516128', '2017-02-06', 0.0, 73.0)\n(19365, 'USC00516128', '2017-02-07', 1.79, 68.0)\n(19366, 'USC00516128', '2017-02-08', 0.0, 68.0)\n(19367, 'USC00516128', '2017-02-09', 0.0, 64.0)\n(19368, 'USC00516128', '2017-02-10', 0.0, 70.0)\n(19369, 'USC00516128', '2017-02-11', 0.73, 66.0)\n(19370, 'USC00516128', '2017-02-12', 1.83, 65.0)\n(19371, 'USC00516128', '2017-02-13', 0.0, 68.0)\n(19372, 'USC00516128', '2017-02-14', 0.01, 79.0)\n(19373, 'USC00516128', '2017-02-15', 0.07, 71.0)\n(19374, 'USC00516128', '2017-02-16', 0.13, 72.0)\n(19375, 'USC00516128', '2017-02-18', None, 72.0)\n(19376, 'USC00516128', '2017-02-19', 0.1, 68.0)\n(19377, 'USC00516128', '2017-02-20', 0.0, 69.0)\n(19378, 'USC00516128', '2017-02-21', 0.07, 65.0)\n(19379, 'USC00516128', '2017-02-22', 0.32, 69.0)\n(19380, 'USC00516128', '2017-02-23', 0.0, 72.0)\n(19381, 'USC00516128', '2017-02-24', 0.0, 68.0)\n(19382, 'USC00516128', '2017-02-25', 0.12, 66.0)\n(19383, 'USC00516128', '2017-02-26', 0.0, 64.0)\n(19384, 'USC00516128', '2017-02-27', 0.0, 69.0)\n(19385, 'USC00516128', '2017-02-28', 0.58, 69.0)\n(19386, 'USC00516128', '2017-03-01', 2.0, 64.0)\n(19387, 'USC00516128', '2017-03-02', 0.58, 72.0)\n(19388, 'USC00516128', '2017-03-03', 0.56, 78.0)\n(19389, 'USC00516128', '2017-03-04', 0.0, 70.0)\n(19390, 'USC00516128', '2017-03-05', 0.35, 68.0)\n(19391, 'USC00516128', '2017-03-06', 0.0, 76.0)\n(19392, 'USC00516128', '2017-03-07', 0.0, 72.0)\n(19393, 'USC00516128', '2017-03-08', 0.0, 68.0)\n(19394, 'USC00516128', '2017-03-09', 0.01, 72.0)\n(19395, 'USC00516128', '2017-03-10', 0.0, 65.0)\n(19396, 'USC00516128', '2017-03-11', 0.0, 82.0)\n(19397, 'USC00516128', '2017-03-13', None, 69.0)\n(19398, 'USC00516128', '2017-03-14', 0.0, 75.0)\n(19399, 'USC00516128', '2017-03-15', 0.0, 76.0)\n(19400, 'USC00516128', '2017-03-16', 0.0, 77.0)\n(19401, 'USC00516128', '2017-03-18', None, 70.0)\n(19402, 'USC00516128', '2017-03-19', 0.0, 74.0)\n(19403, 'USC00516128', '2017-03-20', 0.0, 74.0)\n(19404, 'USC00516128', '2017-03-21', 0.0, 72.0)\n(19405, 'USC00516128', '2017-03-22', 0.0, 72.0)\n(19406, 'USC00516128', '2017-03-23', 0.03, 70.0)\n(19407, 'USC00516128', '2017-03-24', 0.17, 70.0)\n(19408, 'USC00516128', '2017-03-25', 0.48, 72.0)\n(19409, 'USC00516128', '2017-03-26', 0.0, 72.0)\n(19410, 'USC00516128', '2017-03-27', 0.0, 74.0)\n(19411, 'USC00516128', '2017-03-28', 0.68, 69.0)\n(19412, 'USC00516128', '2017-03-29', 0.07, 69.0)\n(19413, 'USC00516128', '2017-03-31', None, 76.0)\n(19414, 'USC00516128', '2017-04-01', 0.2, 69.0)\n(19415, 'USC00516128', '2017-04-02', 0.0, 71.0)\n(19416, 'USC00516128', '2017-04-03', 0.23, 73.0)\n(19417, 'USC00516128', '2017-04-04', 0.02, 75.0)\n(19418, 'USC00516128', '2017-04-05', 0.45, 69.0)\n(19419, 'USC00516128', '2017-04-06', 0.0, 72.0)\n(19420, 'USC00516128', '2017-04-08', None, 76.0)\n(19421, 'USC00516128', '2017-04-09', 0.0, 70.0)\n(19422, 'USC00516128', '2017-04-10', 0.0, 72.0)\n(19423, 'USC00516128', '2017-04-11', 0.25, 71.0)\n(19424, 'USC00516128', '2017-04-12', 0.65, 70.0)\n(19425, 'USC00516128', '2017-04-13', 0.23, 73.0)\n(19426, 'USC00516128', '2017-04-14', 2.82, 72.0)\n(19427, 'USC00516128', '2017-04-15', 0.9, 70.0)\n(19428, 'USC00516128', '2017-04-16', 0.11, 71.0)\n(19429, 'USC00516128', '2017-04-17', 1.3, 69.0)\n(19430, 'USC00516128', '2017-04-18', 0.98, 71.0)\n(19431, 'USC00516128', '2017-04-19', 0.14, 71.0)\n(19432, 'USC00516128', '2017-04-20', 0.0, 69.0)\n(19433, 'USC00516128', '2017-04-21', 1.84, 70.0)\n(19434, 'USC00516128', '2017-04-22', 1.35, 73.0)\n(19435, 'USC00516128', '2017-04-23', 0.35, 70.0)\n(19436, 'USC00516128', '2017-04-24', 0.05, 75.0)\n(19437, 'USC00516128', '2017-04-25', 0.0, 74.0)\n(19438, 'USC00516128', '2017-04-26', 0.22, 77.0)\n(19439, 'USC00516128', '2017-04-27', 0.11, 76.0)\n(19440, 'USC00516128', '2017-04-28', 0.79, 71.0)\n(19441, 'USC00516128', '2017-04-29', 0.0, 68.0)\n(19442, 'USC00516128', '2017-04-30', 0.8, 58.0)\n(19443, 'USC00516128', '2017-05-01', 0.25, 73.0)\n(19444, 'USC00516128', '2017-05-02', 0.0, 79.0)\n(19445, 'USC00516128', '2017-05-04', None, 74.0)\n(19446, 'USC00516128', '2017-05-05', 0.1, 74.0)\n(19447, 'USC00516128', '2017-05-06', 0.0, 74.0)\n(19448, 'USC00516128', '2017-05-07', 0.03, 70.0)\n(19449, 'USC00516128', '2017-05-08', 1.11, 66.0)\n(19450, 'USC00516128', '2017-05-09', 0.23, 72.0)\n(19451, 'USC00516128', '2017-05-10', 0.55, 72.0)\n(19452, 'USC00516128', '2017-05-11', 0.44, 78.0)\n(19453, 'USC00516128', '2017-05-12', 0.1, 70.0)\n(19454, 'USC00516128', '2017-05-13', 0.1, 71.0)\n(19455, 'USC00516128', '2017-05-14', 1.0, 70.0)\n(19456, 'USC00516128', '2017-05-15', 0.6, 72.0)\n(19457, 'USC00516128', '2017-05-16', 0.3, 71.0)\n(19458, 'USC00516128', '2017-05-17', 0.06, 71.0)\n(19459, 'USC00516128', '2017-05-18', 0.0, 69.0)\n(19460, 'USC00516128', '2017-05-20', None, 70.0)\n(19461, 'USC00516128', '2017-05-21', 0.0, 69.0)\n(19462, 'USC00516128', '2017-05-22', 0.3, 72.0)\n(19463, 'USC00516128', '2017-05-23', 0.44, 69.0)\n(19464, 'USC00516128', '2017-05-24', 2.17, 70.0)\n(19465, 'USC00516128', '2017-05-25', 0.88, 75.0)\n(19466, 'USC00516128', '2017-05-26', 0.0, 72.0)\n(19467, 'USC00516128', '2017-05-27', 0.5, 72.0)\n(19468, 'USC00516128', '2017-05-28', 0.0, 73.0)\n(19469, 'USC00516128', '2017-05-30', None, 72.0)\n(19470, 'USC00516128', '2017-06-01', 0.01, 74.0)\n(19471, 'USC00516128', '2017-06-03', None, 74.0)\n(19472, 'USC00516128', '2017-06-04', 0.82, 77.0)\n(19473, 'USC00516128', '2017-06-05', 0.01, 74.0)\n(19474, 'USC00516128', '2017-06-06', 0.0, 74.0)\n(19475, 'USC00516128', '2017-06-07', 0.01, 79.0)\n(19476, 'USC00516128', '2017-06-08', 0.0, 75.0)\n(19477, 'USC00516128', '2017-06-10', None, 72.0)\n(19478, 'USC00516128', '2017-06-11', 0.7, 76.0)\n(19479, 'USC00516128', '2017-06-12', 0.81, 74.0)\n(19480, 'USC00516128', '2017-06-13', 0.65, 73.0)\n(19481, 'USC00516128', '2017-06-14', 0.81, 74.0)\n(19482, 'USC00516128', '2017-06-15', 1.69, 77.0)\n(19483, 'USC00516128', '2017-06-16', 0.1, 74.0)\n(19484, 'USC00516128', '2017-06-17', 0.1, 72.0)\n(19485, 'USC00516128', '2017-06-18', 0.7, 77.0)\n(19486, 'USC00516128', '2017-06-19', 0.4, 76.0)\n(19487, 'USC00516128', '2017-06-20', 0.31, 74.0)\n(19488, 'USC00516128', '2017-06-21', 0.3, 75.0)\n(19489, 'USC00516128', '2017-06-22', 0.28, 76.0)\n(19490, 'USC00516128', '2017-06-23', 0.5, 71.0)\n(19491, 'USC00516128', '2017-06-24', 0.22, 73.0)\n(19492, 'USC00516128', '2017-06-25', 0.5, 79.0)\n(19493, 'USC00516128', '2017-06-26', 0.02, 79.0)\n(19494, 'USC00516128', '2017-06-27', 0.1, 74.0)\n(19495, 'USC00516128', '2017-06-28', 0.02, 74.0)\n(19496, 'USC00516128', '2017-06-29', 0.04, 76.0)\n(19497, 'USC00516128', '2017-06-30', 0.2, 75.0)\n(19498, 'USC00516128', '2017-07-01', 0.1, 74.0)\n(19499, 'USC00516128', '2017-07-02', 0.5, 78.0)\n(19500, 'USC00516128', '2017-07-03', 0.4, 77.0)\n(19501, 'USC00516128', '2017-07-04', 0.0, 77.0)\n(19502, 'USC00516128', '2017-07-05', 0.0, 75.0)\n(19503, 'USC00516128', '2017-07-06', 0.02, 74.0)\n(19504, 'USC00516128', '2017-07-07', 0.3, 74.0)\n(19505, 'USC00516128', '2017-07-08', 0.02, 71.0)\n(19506, 'USC00516128', '2017-07-09', 0.0, 78.0)\n(19507, 'USC00516128', '2017-07-10', 0.02, 77.0)\n(19508, 'USC00516128', '2017-07-11', 0.0, 74.0)\n(19509, 'USC00516128', '2017-07-12', 0.05, 72.0)\n(19510, 'USC00516128', '2017-07-13', 0.68, 77.0)\n(19511, 'USC00516128', '2017-07-14', 0.68, 76.0)\n(19512, 'USC00516128', '2017-07-15', 0.1, 78.0)\n(19513, 'USC00516128', '2017-07-16', 0.5, 75.0)\n(19514, 'USC00516128', '2017-07-17', 0.39, 72.0)\n(19515, 'USC00516128', '2017-07-18', 2.4, 77.0)\n(19516, 'USC00516128', '2017-07-19', 0.27, 74.0)\n(19517, 'USC00516128', '2017-07-20', 0.7, 75.0)\n(19518, 'USC00516128', '2017-07-21', 0.1, 72.0)\n(19519, 'USC00516128', '2017-07-22', 4.0, 72.0)\n(19520, 'USC00516128', '2017-07-23', 0.8, 78.0)\n(19521, 'USC00516128', '2017-07-24', 0.84, 77.0)\n(19522, 'USC00516128', '2017-07-25', 0.3, 79.0)\n(19523, 'USC00516128', '2017-07-26', 0.3, 73.0)\n(19524, 'USC00516128', '2017-07-27', 0.0, 75.0)\n(19525, 'USC00516128', '2017-07-28', 0.4, 73.0)\n(19526, 'USC00516128', '2017-07-29', 0.3, 77.0)\n(19527, 'USC00516128', '2017-07-30', 0.3, 79.0)\n(19528, 'USC00516128', '2017-07-31', 0.0, 74.0)\n(19529, 'USC00516128', '2017-08-01', None, 72.0)\n(19530, 'USC00516128', '2017-08-02', 0.25, 80.0)\n(19531, 'USC00516128', '2017-08-03', 0.06, 76.0)\n(19532, 'USC00516128', '2017-08-05', None, 77.0)\n(19533, 'USC00516128', '2017-08-06', None, 79.0)\n(19534, 'USC00516128', '2017-08-07', 0.05, 78.0)\n(19535, 'USC00516128', '2017-08-08', 0.34, 74.0)\n(19536, 'USC00516128', '2017-08-09', 0.15, 71.0)\n(19537, 'USC00516128', '2017-08-10', 0.07, 75.0)\n(19538, 'USC00516128', '2017-08-11', None, 72.0)\n(19539, 'USC00516128', '2017-08-12', 0.14, 74.0)\n(19540, 'USC00516128', '2017-08-13', None, 80.0)\n(19541, 'USC00516128', '2017-08-14', 0.22, 79.0)\n(19542, 'USC00516128', '2017-08-15', 0.42, 70.0)\n(19543, 'USC00516128', '2017-08-16', 0.42, 71.0)\n(19544, 'USC00516128', '2017-08-17', 0.13, 72.0)\n(19545, 'USC00516128', '2017-08-18', None, 76.0)\n(19546, 'USC00516128', '2017-08-19', 0.09, 71.0)\n(19547, 'USC00516128', '2017-08-20', None, 78.0)\n(19548, 'USC00516128', '2017-08-21', 0.56, 76.0)\n(19549, 'USC00516128', '2017-08-22', 0.5, 76.0)\n(19550, 'USC00516128', '2017-08-23', 0.45, 76.0)\n"
    }
   ],
   "source": [
    "# Design a query to retrieve the last 12 months of precipitation data and plot the results\n",
    "precip = engine.execute(\"SELECT * FROM measurement\")\n",
    "\n",
    "for record in precip:\n",
    "        print (record)\n",
    "\n",
    "# Calculate the date 1 year ago from the last data point in the database\n",
    "\n",
    "# Perform a query to retrieve the data and precipitation scores\n",
    "\n",
    "# Save the query results as a Pandas DataFrame and set the index to the date column\n",
    "\n",
    "# Sort the dataframe by date\n",
    "\n",
    "# Use Pandas Plotting with Matplotlib to plot the data\n"
   ]
  },
  {
   "cell_type": "code",
   "execution_count": 53,
   "metadata": {},
   "outputs": [],
   "source": [
    "# Use Pandas to calcualte the summary statistics for the precipitation data"
   ]
  },
  {
   "cell_type": "code",
   "execution_count": 54,
   "metadata": {},
   "outputs": [],
   "source": [
    "# Design a query to show how many stations are available in this dataset?\n"
   ]
  },
  {
   "cell_type": "code",
   "execution_count": 55,
   "metadata": {},
   "outputs": [],
   "source": [
    "# What are the most active stations? (i.e. what stations have the most rows)?\n",
    "# List the stations and the counts in descending order.\n"
   ]
  },
  {
   "cell_type": "code",
   "execution_count": 56,
   "metadata": {},
   "outputs": [],
   "source": [
    "# Using the station id from the previous query, calculate the lowest temperature recorded, \n",
    "# highest temperature recorded, and average temperature of the most active station?\n"
   ]
  },
  {
   "cell_type": "code",
   "execution_count": 57,
   "metadata": {},
   "outputs": [],
   "source": [
    "# Choose the station with the highest number of temperature observations.\n",
    "# Query the last 12 months of temperature observation data for this station and plot the results as a histogram\n"
   ]
  },
  {
   "cell_type": "markdown",
   "metadata": {},
   "source": [
    "## Bonus Challenge Assignment"
   ]
  },
  {
   "cell_type": "code",
   "execution_count": 58,
   "metadata": {},
   "outputs": [
    {
     "output_type": "error",
     "ename": "NameError",
     "evalue": "name 'session' is not defined",
     "traceback": [
      "\u001b[1;31m---------------------------------------------------------------------------\u001b[0m",
      "\u001b[1;31mNameError\u001b[0m                                 Traceback (most recent call last)",
      "\u001b[1;32m<ipython-input-58-790a4fe371b5>\u001b[0m in \u001b[0;36m<module>\u001b[1;34m\u001b[0m\n\u001b[0;32m     16\u001b[0m \u001b[1;33m\u001b[0m\u001b[0m\n\u001b[0;32m     17\u001b[0m \u001b[1;31m# function usage example\u001b[0m\u001b[1;33m\u001b[0m\u001b[1;33m\u001b[0m\u001b[1;33m\u001b[0m\u001b[0m\n\u001b[1;32m---> 18\u001b[1;33m \u001b[0mprint\u001b[0m\u001b[1;33m(\u001b[0m\u001b[0mcalc_temps\u001b[0m\u001b[1;33m(\u001b[0m\u001b[1;34m'2012-02-28'\u001b[0m\u001b[1;33m,\u001b[0m \u001b[1;34m'2012-03-05'\u001b[0m\u001b[1;33m)\u001b[0m\u001b[1;33m)\u001b[0m\u001b[1;33m\u001b[0m\u001b[1;33m\u001b[0m\u001b[0m\n\u001b[0m",
      "\u001b[1;32m<ipython-input-58-790a4fe371b5>\u001b[0m in \u001b[0;36mcalc_temps\u001b[1;34m(start_date, end_date)\u001b[0m\n\u001b[0;32m     12\u001b[0m     \"\"\"\n\u001b[0;32m     13\u001b[0m \u001b[1;33m\u001b[0m\u001b[0m\n\u001b[1;32m---> 14\u001b[1;33m     \u001b[1;32mreturn\u001b[0m \u001b[0msession\u001b[0m\u001b[1;33m.\u001b[0m\u001b[0mquery\u001b[0m\u001b[1;33m(\u001b[0m\u001b[0mfunc\u001b[0m\u001b[1;33m.\u001b[0m\u001b[0mmin\u001b[0m\u001b[1;33m(\u001b[0m\u001b[0mMeasurement\u001b[0m\u001b[1;33m.\u001b[0m\u001b[0mtobs\u001b[0m\u001b[1;33m)\u001b[0m\u001b[1;33m,\u001b[0m \u001b[0mfunc\u001b[0m\u001b[1;33m.\u001b[0m\u001b[0mavg\u001b[0m\u001b[1;33m(\u001b[0m\u001b[0mMeasurement\u001b[0m\u001b[1;33m.\u001b[0m\u001b[0mtobs\u001b[0m\u001b[1;33m)\u001b[0m\u001b[1;33m,\u001b[0m \u001b[0mfunc\u001b[0m\u001b[1;33m.\u001b[0m\u001b[0mmax\u001b[0m\u001b[1;33m(\u001b[0m\u001b[0mMeasurement\u001b[0m\u001b[1;33m.\u001b[0m\u001b[0mtobs\u001b[0m\u001b[1;33m)\u001b[0m\u001b[1;33m)\u001b[0m\u001b[1;33m.\u001b[0m\u001b[0;31m\\\u001b[0m\u001b[1;33m\u001b[0m\u001b[1;33m\u001b[0m\u001b[0m\n\u001b[0m\u001b[0;32m     15\u001b[0m         \u001b[0mfilter\u001b[0m\u001b[1;33m(\u001b[0m\u001b[0mMeasurement\u001b[0m\u001b[1;33m.\u001b[0m\u001b[0mdate\u001b[0m \u001b[1;33m>=\u001b[0m \u001b[0mstart_date\u001b[0m\u001b[1;33m)\u001b[0m\u001b[1;33m.\u001b[0m\u001b[0mfilter\u001b[0m\u001b[1;33m(\u001b[0m\u001b[0mMeasurement\u001b[0m\u001b[1;33m.\u001b[0m\u001b[0mdate\u001b[0m \u001b[1;33m<=\u001b[0m \u001b[0mend_date\u001b[0m\u001b[1;33m)\u001b[0m\u001b[1;33m.\u001b[0m\u001b[0mall\u001b[0m\u001b[1;33m(\u001b[0m\u001b[1;33m)\u001b[0m\u001b[1;33m\u001b[0m\u001b[1;33m\u001b[0m\u001b[0m\n\u001b[0;32m     16\u001b[0m \u001b[1;33m\u001b[0m\u001b[0m\n",
      "\u001b[1;31mNameError\u001b[0m: name 'session' is not defined"
     ]
    }
   ],
   "source": [
    "# This function called `calc_temps` will accept start date and end date in the format '%Y-%m-%d' \n",
    "# and return the minimum, average, and maximum temperatures for that range of dates\n",
    "def calc_temps(start_date, end_date):\n",
    "    \"\"\"TMIN, TAVG, and TMAX for a list of dates.\n",
    "    \n",
    "    Args:\n",
    "        start_date (string): A date string in the format %Y-%m-%d\n",
    "        end_date (string): A date string in the format %Y-%m-%d\n",
    "        \n",
    "    Returns:\n",
    "        TMIN, TAVE, and TMAX\n",
    "    \"\"\"\n",
    "    \n",
    "    return session.query(func.min(Measurement.tobs), func.avg(Measurement.tobs), func.max(Measurement.tobs)).\\\n",
    "        filter(Measurement.date >= start_date).filter(Measurement.date <= end_date).all()\n",
    "\n",
    "# function usage example\n",
    "print(calc_temps('2012-02-28', '2012-03-05'))"
   ]
  },
  {
   "cell_type": "code",
   "execution_count": 59,
   "metadata": {},
   "outputs": [],
   "source": [
    "# Use your previous function `calc_temps` to calculate the tmin, tavg, and tmax \n",
    "# for your trip using the previous year's data for those same dates.\n"
   ]
  },
  {
   "cell_type": "code",
   "execution_count": 60,
   "metadata": {},
   "outputs": [],
   "source": [
    "# Plot the results from your previous query as a bar chart. \n",
    "# Use \"Trip Avg Temp\" as your Title\n",
    "# Use the average temperature for the y value\n",
    "# Use the peak-to-peak (tmax-tmin) value as the y error bar (yerr)\n"
   ]
  },
  {
   "cell_type": "code",
   "execution_count": 61,
   "metadata": {},
   "outputs": [],
   "source": [
    "# Calculate the total amount of rainfall per weather station for your trip dates using the previous year's matching dates.\n",
    "# Sort this in descending order by precipitation amount and list the station, name, latitude, longitude, and elevation\n",
    "\n"
   ]
  },
  {
   "cell_type": "code",
   "execution_count": 62,
   "metadata": {},
   "outputs": [
    {
     "output_type": "error",
     "ename": "NameError",
     "evalue": "name 'Measurement' is not defined",
     "traceback": [
      "\u001b[1;31m---------------------------------------------------------------------------\u001b[0m",
      "\u001b[1;31mNameError\u001b[0m                                 Traceback (most recent call last)",
      "\u001b[1;32m<ipython-input-62-dec9bd8a78fa>\u001b[0m in \u001b[0;36m<module>\u001b[1;34m\u001b[0m\n\u001b[0;32m     16\u001b[0m     \u001b[1;32mreturn\u001b[0m \u001b[0msession\u001b[0m\u001b[1;33m.\u001b[0m\u001b[0mquery\u001b[0m\u001b[1;33m(\u001b[0m\u001b[1;33m*\u001b[0m\u001b[0msel\u001b[0m\u001b[1;33m)\u001b[0m\u001b[1;33m.\u001b[0m\u001b[0mfilter\u001b[0m\u001b[1;33m(\u001b[0m\u001b[0mfunc\u001b[0m\u001b[1;33m.\u001b[0m\u001b[0mstrftime\u001b[0m\u001b[1;33m(\u001b[0m\u001b[1;34m\"%m-%d\"\u001b[0m\u001b[1;33m,\u001b[0m \u001b[0mMeasurement\u001b[0m\u001b[1;33m.\u001b[0m\u001b[0mdate\u001b[0m\u001b[1;33m)\u001b[0m \u001b[1;33m==\u001b[0m \u001b[0mdate\u001b[0m\u001b[1;33m)\u001b[0m\u001b[1;33m.\u001b[0m\u001b[0mall\u001b[0m\u001b[1;33m(\u001b[0m\u001b[1;33m)\u001b[0m\u001b[1;33m\u001b[0m\u001b[1;33m\u001b[0m\u001b[0m\n\u001b[0;32m     17\u001b[0m \u001b[1;33m\u001b[0m\u001b[0m\n\u001b[1;32m---> 18\u001b[1;33m \u001b[0mdaily_normals\u001b[0m\u001b[1;33m(\u001b[0m\u001b[1;34m\"01-01\"\u001b[0m\u001b[1;33m)\u001b[0m\u001b[1;33m\u001b[0m\u001b[1;33m\u001b[0m\u001b[0m\n\u001b[0m",
      "\u001b[1;32m<ipython-input-62-dec9bd8a78fa>\u001b[0m in \u001b[0;36mdaily_normals\u001b[1;34m(date)\u001b[0m\n\u001b[0;32m     13\u001b[0m     \"\"\"\n\u001b[0;32m     14\u001b[0m \u001b[1;33m\u001b[0m\u001b[0m\n\u001b[1;32m---> 15\u001b[1;33m     \u001b[0msel\u001b[0m \u001b[1;33m=\u001b[0m \u001b[1;33m[\u001b[0m\u001b[0mfunc\u001b[0m\u001b[1;33m.\u001b[0m\u001b[0mmin\u001b[0m\u001b[1;33m(\u001b[0m\u001b[0mMeasurement\u001b[0m\u001b[1;33m.\u001b[0m\u001b[0mtobs\u001b[0m\u001b[1;33m)\u001b[0m\u001b[1;33m,\u001b[0m \u001b[0mfunc\u001b[0m\u001b[1;33m.\u001b[0m\u001b[0mavg\u001b[0m\u001b[1;33m(\u001b[0m\u001b[0mMeasurement\u001b[0m\u001b[1;33m.\u001b[0m\u001b[0mtobs\u001b[0m\u001b[1;33m)\u001b[0m\u001b[1;33m,\u001b[0m \u001b[0mfunc\u001b[0m\u001b[1;33m.\u001b[0m\u001b[0mmax\u001b[0m\u001b[1;33m(\u001b[0m\u001b[0mMeasurement\u001b[0m\u001b[1;33m.\u001b[0m\u001b[0mtobs\u001b[0m\u001b[1;33m)\u001b[0m\u001b[1;33m]\u001b[0m\u001b[1;33m\u001b[0m\u001b[1;33m\u001b[0m\u001b[0m\n\u001b[0m\u001b[0;32m     16\u001b[0m     \u001b[1;32mreturn\u001b[0m \u001b[0msession\u001b[0m\u001b[1;33m.\u001b[0m\u001b[0mquery\u001b[0m\u001b[1;33m(\u001b[0m\u001b[1;33m*\u001b[0m\u001b[0msel\u001b[0m\u001b[1;33m)\u001b[0m\u001b[1;33m.\u001b[0m\u001b[0mfilter\u001b[0m\u001b[1;33m(\u001b[0m\u001b[0mfunc\u001b[0m\u001b[1;33m.\u001b[0m\u001b[0mstrftime\u001b[0m\u001b[1;33m(\u001b[0m\u001b[1;34m\"%m-%d\"\u001b[0m\u001b[1;33m,\u001b[0m \u001b[0mMeasurement\u001b[0m\u001b[1;33m.\u001b[0m\u001b[0mdate\u001b[0m\u001b[1;33m)\u001b[0m \u001b[1;33m==\u001b[0m \u001b[0mdate\u001b[0m\u001b[1;33m)\u001b[0m\u001b[1;33m.\u001b[0m\u001b[0mall\u001b[0m\u001b[1;33m(\u001b[0m\u001b[1;33m)\u001b[0m\u001b[1;33m\u001b[0m\u001b[1;33m\u001b[0m\u001b[0m\n\u001b[0;32m     17\u001b[0m \u001b[1;33m\u001b[0m\u001b[0m\n",
      "\u001b[1;31mNameError\u001b[0m: name 'Measurement' is not defined"
     ]
    }
   ],
   "source": [
    "# Create a query that will calculate the daily normals \n",
    "# (i.e. the averages for tmin, tmax, and tavg for all historic data matching a specific month and day)\n",
    "\n",
    "def daily_normals(date):\n",
    "    \"\"\"Daily Normals.\n",
    "    \n",
    "    Args:\n",
    "        date (str): A date string in the format '%m-%d'\n",
    "        \n",
    "    Returns:\n",
    "        A list of tuples containing the daily normals, tmin, tavg, and tmax\n",
    "    \n",
    "    \"\"\"\n",
    "    \n",
    "    sel = [func.min(Measurement.tobs), func.avg(Measurement.tobs), func.max(Measurement.tobs)]\n",
    "    return session.query(*sel).filter(func.strftime(\"%m-%d\", Measurement.date) == date).all()\n",
    "    \n",
    "daily_normals(\"01-01\")"
   ]
  },
  {
   "cell_type": "code",
   "execution_count": 63,
   "metadata": {},
   "outputs": [],
   "source": [
    "# calculate the daily normals for your trip\n",
    "# push each tuple of calculations into a list called `normals`\n",
    "\n",
    "# Set the start and end date of the trip\n",
    "\n",
    "# Use the start and end date to create a range of dates\n",
    "\n",
    "# Stip off the year and save a list of %m-%d strings\n",
    "\n",
    "# Loop through the list of %m-%d strings and calculate the normals for each date\n"
   ]
  },
  {
   "cell_type": "code",
   "execution_count": 64,
   "metadata": {},
   "outputs": [],
   "source": [
    "# Load the previous query results into a Pandas DataFrame and add the `trip_dates` range as the `date` index\n"
   ]
  },
  {
   "cell_type": "code",
   "execution_count": 65,
   "metadata": {},
   "outputs": [],
   "source": [
    "# Plot the daily normals as an area plot with `stacked=False`\n"
   ]
  }
 ],
 "metadata": {
  "kernel_info": {
   "name": "python3"
  },
  "kernelspec": {
   "display_name": "Python 3",
   "language": "python",
   "name": "python3"
  },
  "language_info": {
   "codemirror_mode": {
    "name": "ipython",
    "version": 3
   },
   "file_extension": ".py",
   "mimetype": "text/x-python",
   "name": "python",
   "nbconvert_exporter": "python",
   "pygments_lexer": "ipython3",
   "version": "3.7.4-final"
  },
  "nteract": {
   "version": "0.12.3"
  },
  "varInspector": {
   "cols": {
    "lenName": 16,
    "lenType": 16,
    "lenVar": 40
   },
   "kernels_config": {
    "python": {
     "delete_cmd_postfix": "",
     "delete_cmd_prefix": "del ",
     "library": "var_list.py",
     "varRefreshCmd": "print(var_dic_list())"
    },
    "r": {
     "delete_cmd_postfix": ") ",
     "delete_cmd_prefix": "rm(",
     "library": "var_list.r",
     "varRefreshCmd": "cat(var_dic_list()) "
    }
   },
   "types_to_exclude": [
    "module",
    "function",
    "builtin_function_or_method",
    "instance",
    "_Feature"
   ],
   "window_display": false
  }
 },
 "nbformat": 4,
 "nbformat_minor": 2
}